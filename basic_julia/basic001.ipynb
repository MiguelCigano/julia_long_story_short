{
 "cells": [
  {
   "cell_type": "code",
   "execution_count": 4,
   "metadata": {},
   "outputs": [
    {
     "data": {
      "text/plain": [
       "Plots.GRBackend()"
      ]
     },
     "execution_count": 4,
     "metadata": {},
     "output_type": "execute_result"
    }
   ],
   "source": [
    "\n",
    "# Julia packages\n",
    "using ControlSystems\n",
    "using Plots; gr(linewidth = 2, grid =:false)"
   ]
  },
  {
   "cell_type": "code",
   "execution_count": 6,
   "metadata": {},
   "outputs": [
    {
     "name": "stdout",
     "output_type": "stream",
     "text": [
      "hola_mundo"
     ]
    }
   ],
   "source": [
    "print(\"hola_mundo\")"
   ]
  },
  {
   "cell_type": "code",
   "execution_count": 7,
   "metadata": {},
   "outputs": [
    {
     "data": {
      "text/plain": [
       "TransferFunction{Continuous, ControlSystemsBase.SisoRational{Int64}}\n",
       "          2\n",
       "----------------------\n",
       "10s^3 + 17s^2 + 8s + 1\n",
       "\n",
       "Continuous-time transfer function model"
      ]
     },
     "execution_count": 7,
     "metadata": {},
     "output_type": "execute_result"
    }
   ],
   "source": [
    "P1 = tf([2], [10, 17, 8, 1])"
   ]
  },
  {
   "cell_type": "code",
   "execution_count": 11,
   "metadata": {},
   "outputs": [
    {
     "ename": "LoadError",
     "evalue": "Expects 801 elements in each col of y, found 1.",
     "output_type": "error",
     "traceback": [
      "Expects 801 elements in each col of y, found 1.",
      "",
      "Stacktrace:",
      "  [1] error(s::String)",
      "    @ Base ./error.jl:35",
      "  [2] _compute_xyz(x::StepRangeLen{Float64, Base.TwicePrecision{Float64}, Base.TwicePrecision{Float64}, Int64}, y::Vector{Float64}, z::Nothing, nice_error::Bool)",
      "    @ RecipesPipeline ~/.julia/packages/RecipesPipeline/BGM3l/src/series.jl:90",
      "  [3] macro expansion",
      "    @ ~/.julia/packages/RecipesPipeline/BGM3l/src/series.jl:140 [inlined]",
      "  [4] apply_recipe(plotattributes::AbstractDict{Symbol, Any}, ::Type{RecipesPipeline.SliceIt}, x::Any, y::Any, z::Any)",
      "    @ RecipesPipeline ~/.julia/packages/RecipesBase/BRe07/src/RecipesBase.jl:300",
      "  [5] _process_userrecipes!(plt::Any, plotattributes::Any, args::Any)",
      "    @ RecipesPipeline ~/.julia/packages/RecipesPipeline/BGM3l/src/user_recipe.jl:38",
      "  [6] recipe_pipeline!(plt::Any, plotattributes::Any, args::Any)",
      "    @ RecipesPipeline ~/.julia/packages/RecipesPipeline/BGM3l/src/RecipesPipeline.jl:72",
      "  [7] _plot!(plt::Plots.Plot, plotattributes::Any, args::Any)",
      "    @ Plots ~/.julia/packages/Plots/Ec1L1/src/plot.jl:223",
      "  [8] plot(::Any, ::Vararg{Any}; kw...)",
      "    @ Plots ~/.julia/packages/Plots/Ec1L1/src/plot.jl:102",
      "  [9] plot(::Any, ::Any)",
      "    @ Plots ~/.julia/packages/Plots/Ec1L1/src/plot.jl:93",
      " [10] top-level scope",
      "    @ In[11]:3"
     ]
    }
   ],
   "source": [
    "t = 0:0.05:40\n",
    "y1, to, xo = step(P1, t)\n",
    "plot(t, y1)"
   ]
  }
 ],
 "metadata": {
  "kernelspec": {
   "display_name": "Julia 1.11.2",
   "language": "julia",
   "name": "julia-1.11"
  },
  "language_info": {
   "file_extension": ".jl",
   "mimetype": "application/julia",
   "name": "julia",
   "version": "1.11.2"
  }
 },
 "nbformat": 4,
 "nbformat_minor": 2
}
